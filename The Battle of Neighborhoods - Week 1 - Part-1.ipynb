{
 "cells": [
  {
   "cell_type": "markdown",
   "metadata": {
    "collapsed": true
   },
   "source": [
    "## The Battle of the Neighborhoods - Week 1"
   ]
  },
  {
   "cell_type": "markdown",
   "metadata": {},
   "source": [
    "### Introduction & Business Problem :"
   ]
  },
  {
   "cell_type": "markdown",
   "metadata": {},
   "source": [
    "###  Problem Background:"
   ]
  },
  {
   "cell_type": "markdown",
   "metadata": {},
   "source": [
    "The City of New York, is the most populous city in the United States. With an estimated 2018 population of 8,398,748 distributed over a land area of about 302.6 square miles. New York City has been described as the cultural, financial, and media capital of the world, and exerts a significant impact upon commerce, entertainment, research, technology, education, politics, tourism, art, fashion, and sports. New York City consists of five boroughs, each of which is a separate county of the State of New York. The five boroughs are Brooklyn, Queens, Manhattan, The Bronx, and Staten Island.\n",
    "\n",
    "This leads to opportunities and an excellent business environment to open new businesses and get expand to other states or countries. The analysis of NYC data that will take place in this project will help understand the market and the plopulation and venues already available in the city."
   ]
  },
  {
   "cell_type": "markdown",
   "metadata": {},
   "source": [
    "###  Problem Description:"
   ]
  },
  {
   "cell_type": "markdown",
   "metadata": {},
   "source": [
    "A gymnasium, also known as a gym, is a covered location for gymnastics, athletics and gymnastic services. \n",
    "They are commonly found in athletic and fitness centres, and as activity and learning spaces in educational institutions. \"Gym\" is also slang for \"fitness centre\", which is often an area for indoor recreation.\n",
    "The NYC is famous for its excellent Fitness centeres.\n",
    "\n",
    "In this project we will help an agent which wants to open a new fitness center in NYC to choose the best location.\n",
    "We will explote the five bouroughs and the neighborhoods aligned with the population of each area and number of exsisting gyms.\n",
    "\n",
    "So it is evident that to survive in such competitive market it is very important to startegically plan. Various factors need to be studied inorder to decide on the Location such as : <Br>\n",
    "1. New York Population <Br>\n",
    "2. Are there any fitness club, health club etc nearby<Br>\n",
    "3. Are there any venues like Healthy resturants, Entertainmnet zones, Parks etc nearby where floating population is high etc <Br>\n",
    "4. Who are the competitors in that location? <Br>\n",
    "5. Segmentation of the Borough <Br>\n",
    "The list can go on...\n",
    "    \n",
    "Eventhough B Company Ltd. need to choose the correct location to start its first venture.If this is successful they can replicate the same in other locations. First move is very important, thereby choice of location is very important."
   ]
  },
  {
   "cell_type": "markdown",
   "metadata": {},
   "source": [
    "### Target Audience:"
   ]
  },
  {
   "cell_type": "markdown",
   "metadata": {},
   "source": [
    "To recommend the correct location, B Company Ltd has appointed me to lead of the Data Science team. To help them in recommending the best location for their very new brand gym.\n",
    "\n",
    "This would interest anyone who wants to start a new GYM in Newyork city."
   ]
  },
  {
   "cell_type": "markdown",
   "metadata": {},
   "source": [
    "###  Success Criteria:"
   ]
  },
  {
   "cell_type": "markdown",
   "metadata": {},
   "source": [
    "The success criteria of the project will be a good recommendation of borough/Neighborhood choice to B Company Ltd based on Lack of such GYMs in that location and high population rate."
   ]
  },
  {
   "cell_type": "code",
   "execution_count": null,
   "metadata": {},
   "outputs": [],
   "source": []
  }
 ],
 "metadata": {
  "kernelspec": {
   "display_name": "Python 3",
   "language": "python",
   "name": "python3"
  },
  "language_info": {
   "codemirror_mode": {
    "name": "ipython",
    "version": 3
   },
   "file_extension": ".py",
   "mimetype": "text/x-python",
   "name": "python",
   "nbconvert_exporter": "python",
   "pygments_lexer": "ipython3",
   "version": "3.7.4"
  }
 },
 "nbformat": 4,
 "nbformat_minor": 1
}
